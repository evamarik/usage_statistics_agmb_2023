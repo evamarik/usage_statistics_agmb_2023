{
 "cells": [
  {
   "cell_type": "markdown",
   "id": "b8d569b7",
   "metadata": {},
   "source": [
    "# Usage E-Journals"
   ]
  },
  {
   "cell_type": "code",
   "execution_count": 1,
   "id": "b641139f",
   "metadata": {},
   "outputs": [],
   "source": [
    "import pandas as pd\n",
    "import seaborn as sns\n",
    "import matplotlib.pyplot as plt"
   ]
  },
  {
   "cell_type": "code",
   "execution_count": null,
   "id": "86192795",
   "metadata": {},
   "outputs": [],
   "source": [
    "counter_path = \"...\" # enter file path"
   ]
  },
  {
   "cell_type": "code",
   "execution_count": 4,
   "id": "7d461553",
   "metadata": {},
   "outputs": [],
   "source": [
    "licences_path = \"...\" # enter file path"
   ]
  },
  {
   "cell_type": "markdown",
   "id": "dcca9701",
   "metadata": {},
   "source": [
    "## Files\n",
    "\n",
    "\n",
    "* Script works on the file structure created by the COUNTER 5 Report Tool (https://github.com/CS-4820-Library-Project/COUNTER-5-Report-Tool).\n",
    "    * exported vendor file for each year\n",
    "    * COUNTER reports as tsv-files\n",
    "* File \"Zeitschriften_Einzel_Medizin.tsv\" lists all individual journal licences and contains the following columns:\n",
    "    * EMedien_ID\n",
    "    * Zeitschrift_Name\n",
    "    * Print_ISSN\n",
    "    * Online_ISSN\n",
    "    * Verlag\n",
    "    * Bestellnummer\n",
    "    * Abruf_Statistik\n",
    "    * Jahr\n",
    "    * Lizenzstart\n",
    "    * Lizenzende\n",
    "    * Lizenz_Netto\n",
    "    * Lizenz_Netto_Waehrung\n",
    "    * Lizenz_Brutto_Euro\n",
    "    * Kommentar\n",
    "* For each year, the file \"Zeitschriften_Paket_Medizin_{year}.tsv\" lists all jorunal package licences and contains the following columns:\n",
    "... EMedien_ID\tZeitschrift_ID\tZeitschrift_Name\tPrint_ISSN\tOnline_ISSN\tKommentar\n",
    "* \"Paket_Medizin.tsv\" ..\n"
   ]
  },
  {
   "cell_type": "markdown",
   "id": "c5dbec05",
   "metadata": {},
   "source": [
    "## Functions"
   ]
  },
  {
   "cell_type": "markdown",
   "id": "37ade625",
   "metadata": {},
   "source": [
    "### Function: Read COUNTER5 reports for a given year and return Unique Item Requests combined in one file"
   ]
  },
  {
   "cell_type": "code",
   "execution_count": null,
   "id": "b49c8bef",
   "metadata": {},
   "outputs": [],
   "source": [
    "def read_COUNTER5_UIR(year):\n",
    "    vendor_data = f\"{counter_path}exported_vendor_data_journals_{year}.tsv\" #specify vendor file \n",
    "    vendors_journals = pd.read_table(vendor_data)[\"name\"].tolist() #make a list of all vendor names\n",
    "    counter5_journals = [] #create an empty list\n",
    "    for vendor in vendors_journals: #combine counter5 reports for all vendors into a single list of dataframes, skip first 13 rows of each counter5 report (i.e. the metadata)\n",
    "        counter5_journals.append(pd.read_table(f\"{counter_path}/{year}/{vendor}/{year}_{vendor}_TR_J1.tsv\", skiprows=13))\n",
    "    counter5_journals_df = pd.concat(counter5_journals, axis = 0) #combine all dataframes in the list into one dataframe\n",
    "    UIR_journals = counter5_journals_df[counter5_journals_df.Metric_Type == \"Unique_Item_Requests\"] #select only the Unique Item Requests\n",
    "    UIR_journals = UIR_journals.reset_index(drop=True) #reset row index\n",
    "    UIR_journals.to_csv(f\"{licences_path}/{year}/UIR_journals_{year}.tsv\", index=False, sep=\"\\t\") #save dataframe as a tsv-file"
   ]
  },
  {
   "attachments": {},
   "cell_type": "markdown",
   "id": "fb9c7677",
   "metadata": {},
   "source": [
    "### Function: Match Counter5 reports to individual journal licences"
   ]
  },
  {
   "cell_type": "code",
   "execution_count": null,
   "id": "39eb8bcc",
   "metadata": {},
   "outputs": [],
   "source": [
    "def match_individuals(year):\n",
    "    individuals_data = pd.read_table(f\"{licences_path}Zeitschriften_Einzel_Medizin.tsv\") #specify journal file\n",
    "    individuals_data_year = individuals_data[individuals_data.Jahr == year] #select given year\n",
    "    individuals_data_year = individuals_data_year.reset_index(drop=True) #reset row index\n",
    "    UIR_journals = pd.read_table(f\"{licences_path}/{year}/UIR_journals_{year}.tsv\") #specify COUNTER data\n",
    "    UIR_individuals = pd.merge(left=individuals_data_year, right=UIR_journals, how='left', left_on=['Online_ISSN', 'Print_ISSN'], right_on=['Online_ISSN', 'Print_ISSN']) # left join to match UIR to journals\n",
    "    return UIR_individuals"
   ]
  },
  {
   "cell_type": "markdown",
   "id": "3e68cf35",
   "metadata": {},
   "source": [
    "### Function: Match Counter5 reports to journal package licences"
   ]
  },
  {
   "cell_type": "code",
   "execution_count": null,
   "id": "f5519aa7",
   "metadata": {},
   "outputs": [],
   "source": [
    "def match_packages(year):\n",
    "    packages_data = pd.read_table(f\"{licences_path}Zeitschriften_Paket_Medizin_{year}.tsv\") #specify package file\n",
    "    UIR_journals = pd.read_table(f\"{licences_path}/{year}/UIR_journals_{year}.tsv\") #specify COUNTER data\n",
    "    UIR_packages = pd.merge(left=packages_data, right=UIR_journals, how='left', left_on=['Online_ISSN', 'Print_ISSN'], right_on=['Online_ISSN', 'Print_ISSN']) # left join to match UIR to journals in packages\n",
    "    return UIR_packages                         "
   ]
  },
  {
   "cell_type": "markdown",
   "id": "53960ee8",
   "metadata": {},
   "source": [
    "### Function: Match files for individual licences and packages for checkig ISSNs"
   ]
  },
  {
   "cell_type": "code",
   "execution_count": null,
   "id": "9a9a69fd",
   "metadata": {},
   "outputs": [],
   "source": [
    "def check_ISSNs(year):\n",
    "    UIR_packages = match_packages(year)\n",
    "    UIR_packages.to_csv(f\"{licences_path}/{year}/Zwischenschritte/UIR_packages_{year}.tsv\", index=False, sep=\"\\t\")\n",
    "    UIR_individuals = match_individuals(year)\n",
    "    UIR_individuals.to_csv(f\"{licences_path}/{year}/Zwischenschritte/UIR_individuals_{year}.tsv\", index=False, sep=\"\\t\")"
   ]
  },
  {
   "cell_type": "markdown",
   "id": "0062fb0c",
   "metadata": {},
   "source": [
    "### Function: Match files for individual licences and packages"
   ]
  },
  {
   "cell_type": "code",
   "execution_count": null,
   "id": "ed49cd48",
   "metadata": {},
   "outputs": [],
   "source": [
    "def match_ISSNs(year):\n",
    "    UIR_packages = match_packages(year)\n",
    "    UIR_packages.to_csv(f\"{licences_path}/{year}/UIR_packages_{year}.tsv\", index=False, sep=\"\\t\")\n",
    "    UIR_individuals = match_individuals(year)\n",
    "    UIR_individuals.to_csv(f\"{licences_path}/{year}/UIR_individuals_{year}.tsv\", index=False, sep=\"\\t\")"
   ]
  },
  {
   "cell_type": "markdown",
   "id": "ded8319f",
   "metadata": {},
   "source": [
    "### Function: Create file for packages usage, summed up for each journal"
   ]
  },
  {
   "cell_type": "code",
   "execution_count": null,
   "id": "3d0f52a2",
   "metadata": {},
   "outputs": [],
   "source": [
    "def combine_platforms_packages(year):\n",
    "    UIR_packages = pd.read_table(f\"{licences_path}/{year}/UIR_packages_{year}.tsv\") #read packages counter data\n",
    "    packages_info = pd.read_table(f\"{licences_path}/Paket_Medizin.tsv\") #read packages data\n",
    "    packages_info_year = packages_info[packages_info.Jahr == year] #select year of interest\n",
    "    UIR_packages = pd.merge(left=UIR_packages, right=packages_info_year, how=\"left\", on=\"EMedien_ID\") #left join to add publisher data\n",
    "    UIR_packages = UIR_packages[[\"EMedien_ID\", \"Zeitschrift_ID\", \"Zeitschrift_Name\", \"Verlag\", \"Jahr\", \"Reporting_Period_Total\"]]\n",
    "    UIR_sum_platforms = UIR_packages[[\"Zeitschrift_ID\", \"Reporting_Period_Total\"]].groupby(\"Zeitschrift_ID\", as_index=False).sum() #Calculate sums for journals accessed on different platforms\n",
    "    UIR_packages = UIR_packages[[\"EMedien_ID\", \"Zeitschrift_ID\", \"Zeitschrift_Name\", \"Verlag\", \"Jahr\"]] #select columns of interest, without \"Reporting_Period_Total\"\n",
    "    UIR_packages = UIR_packages.drop_duplicates() #remove duplicate rows\n",
    "    UIR_sum_platforms = pd.merge(left=UIR_sum_platforms, right=UIR_packages, how=\"left\", on=\"Zeitschrift_ID\") #left join to add values from other columns again\n",
    "    UIR_sum_platforms = UIR_sum_platforms[[\"EMedien_ID\", \"Zeitschrift_ID\", \"Zeitschrift_Name\", \"Verlag\", \"Jahr\", \"Reporting_Period_Total\"]] #select columns of interest\n",
    "    UIR_sum_platforms[\"Lizenztyp\"] = \"package\"\n",
    "    return UIR_sum_platforms"
   ]
  },
  {
   "cell_type": "markdown",
   "id": "d192b82e",
   "metadata": {},
   "source": [
    "### Function: Create file for packages usage, summed up for each package"
   ]
  },
  {
   "cell_type": "code",
   "execution_count": null,
   "id": "4429e505",
   "metadata": {},
   "outputs": [],
   "source": [
    "def combine_platforms_sum_packages(year):\n",
    "    UIR_packages = pd.read_table(f\"{licences_path}/{year}/UIR_packages_{year}.tsv\") #read packages counter data\n",
    "    packages_info = pd.read_table(f\"{licences_path}/Paket_Medizin.tsv\") #read packages data\n",
    "    packages_info_year = packages_info[packages_info.Jahr == year] #select year of interest\n",
    "    UIR_packages = pd.merge(left=UIR_packages, right=packages_info_year, how=\"left\", on=\"EMedien_ID\") #left join to add publisher data\n",
    "    UIR_packages = UIR_packages[[\"EMedien_ID\", \"Verlag\", \"Jahr\", \"Reporting_Period_Total\"]]\n",
    "    UIR_sum_packages = UIR_packages[[\"EMedien_ID\", \"Reporting_Period_Total\"]].groupby(\"EMedien_ID\", as_index=False).sum() #Calculate sums for packages over journals and different platforms\n",
    "    UIR_packages = UIR_packages[[\"EMedien_ID\", \"Verlag\", \"Jahr\"]] #select columns of interest, without \"Reporting_Period_Total\"\n",
    "    UIR_packages = UIR_packages.drop_duplicates() #remove duplicate rows\n",
    "    UIR_sum_packages = pd.merge(left=UIR_sum_packages, right=UIR_packages, how=\"left\", on=\"EMedien_ID\") #left join to add values from other columns again\n",
    "    UIR_sum_packages = UIR_sum_packages[[\"EMedien_ID\", \"Verlag\", \"Jahr\", \"Reporting_Period_Total\"]] #select columns of interest\n",
    "    UIR_sum_packages[\"Lizenztyp\"] = \"package\"\n",
    "    return UIR_sum_packages"
   ]
  },
  {
   "cell_type": "markdown",
   "id": "08d7ea5f",
   "metadata": {},
   "source": [
    "### Function: Create file for individuals journal usage, summed up for each journal"
   ]
  },
  {
   "cell_type": "code",
   "execution_count": null,
   "id": "8d2ae45b",
   "metadata": {},
   "outputs": [],
   "source": [
    "def combine_platforms_individuals(year):\n",
    "    UIR_individuals = pd.read_table(f\"{licences_path}/{year}/UIR_individuals_{year}.tsv\") #read individuals data\n",
    "    UIR_individuals[\"Zeitschrift_ID\"] = UIR_individuals[\"EMedien_ID\"].apply(str)  #add column Zeitschrift_ID, value is the same as EMedien_ID\n",
    "    UIR_individuals = UIR_individuals[[\"EMedien_ID\", \"Zeitschrift_ID\", \"Zeitschrift_Name\", \"Verlag\", \"Jahr\", \"Reporting_Period_Total\"]] #select columns of interest\n",
    "    UIR_sum_platforms = UIR_individuals[[\"Zeitschrift_ID\", \"Reporting_Period_Total\"]].groupby(\"Zeitschrift_ID\", as_index=False).sum() #Calculate sums for jorunals accessed on different platforms\n",
    "    UIR_individuals = UIR_individuals[[\"EMedien_ID\", \"Zeitschrift_ID\", \"Zeitschrift_Name\", \"Verlag\", \"Jahr\"]] #select columns of interest, without \"Reporting_Period_Total\"\n",
    "    UIR_individuals = UIR_individuals.drop_duplicates() #remove duplicate rows\n",
    "    UIR_sum_platforms = pd.merge(left=UIR_sum_platforms, right=UIR_individuals, how=\"left\", on=\"Zeitschrift_ID\") #left join to add values from other columns again\n",
    "    UIR_sum_platforms = UIR_sum_platforms[[\"EMedien_ID\", \"Zeitschrift_ID\", \"Zeitschrift_Name\", \"Verlag\", \"Jahr\", \"Reporting_Period_Total\"]] #select columns of interest\n",
    "    UIR_sum_platforms[\"Lizenztyp\"] = \"individual\"\n",
    "    return UIR_sum_platforms"
   ]
  },
  {
   "cell_type": "markdown",
   "id": "1d1a7e96",
   "metadata": {},
   "source": [
    "### Function: Create a bar chart of UIR per journal"
   ]
  },
  {
   "cell_type": "code",
   "execution_count": null,
   "id": "68c1101f",
   "metadata": {},
   "outputs": [],
   "source": [
    "def make_boxplot (UIR_data):\n",
    "    \n",
    "    sns.set_theme(style=\"ticks\")\n",
    "    f, ax = plt.subplots(figsize=(7, 6)) # Initialize the figure\n",
    "    sns.boxplot(x=\"Jahr\", y=\"Reporting_Period_Total\", data=UIR_data, whis=[0, 100], width=.6, palette=\"vlag\") # Plot UIR with vertical boxes\n",
    "    sns.stripplot(x=\"Jahr\", y=\"Reporting_Period_Total\", data=UIR_data, color=\".3\", size=4, linewidth=0) # Add in points to show each observation\n",
    "    # Adjust the visual presentation\n",
    "    ax.xaxis.grid(True)\n",
    "    ax.set(ylabel=\"Unique Item Requests\")\n",
    "    sns.despine(trim=True, left=True)"
   ]
  },
  {
   "cell_type": "code",
   "execution_count": 2,
   "id": "e3d4f1b1",
   "metadata": {},
   "outputs": [],
   "source": [
    "def make_log_boxplot (UIR_data):\n",
    "    \n",
    "    sns.set_theme(style=\"ticks\")\n",
    "    f, ax = plt.subplots(figsize=(7, 6)) # Initialize the figure\n",
    "    ax.set_yscale(\"log\") #logarithmic scale\n",
    "    sns.boxplot(x=\"Jahr\", y=\"Reporting_Period_Total\", data=UIR_data, whis=[0, 100], width=.6, palette=[\"w\"]) # Plot UIR with vertical boxes\n",
    "    sns.stripplot(x=\"Jahr\", y=\"Reporting_Period_Total\", data=UIR_data, palette=[\"grey\", \"#ad007c\"], size=3, linewidth=0, hue=\"Lizenztyp\") # Add in points to show each observation\n",
    "    # Adjust the visual presentation\n",
    "    ax.xaxis.grid(True)\n",
    "    ax.set(ylabel=\"Unique Item Requests\")\n",
    "    plt.rcParams.update({'font.size': 30})\n",
    "    sns.despine(trim=True, left=True)\n",
    "    plt.legend(bbox_to_anchor=(1.05, 1), loc='upper left', borderaxespad=0., title=\"Lizenztyp\") # Place legend to the right of the plot"
   ]
  },
  {
   "cell_type": "markdown",
   "id": "90391966",
   "metadata": {},
   "source": [
    "## Analyses"
   ]
  },
  {
   "cell_type": "code",
   "execution_count": null,
   "id": "befd11d8",
   "metadata": {},
   "outputs": [],
   "source": [
    "years = [2020, 2021, 2022, 2023]"
   ]
  },
  {
   "cell_type": "markdown",
   "id": "1158c8f7",
   "metadata": {},
   "source": [
    "### Read counter reports and match them to licences, write files for checking ISSNs"
   ]
  },
  {
   "cell_type": "code",
   "execution_count": null,
   "id": "b9c8826e",
   "metadata": {},
   "outputs": [],
   "source": [
    "for year in years:\n",
    "    read_COUNTER5_UIR(year) # Read Counter5 Reports and combine into one file\n",
    "    match_individuals(year) # Match Counter5 reports to individual journal licences\n",
    "    match_packages(year) # Match Counter5 reports to journal package licences\n",
    "    check_ISSNs(year) # Match files for individual licences and packages"
   ]
  },
  {
   "cell_type": "markdown",
   "id": "78eb790d",
   "metadata": {},
   "source": [
    "### ! Manual step: Check wether ISSNs are the same for a given journal in COUNTER reports and files listing journal licences !"
   ]
  },
  {
   "cell_type": "markdown",
   "id": "2f7bde68",
   "metadata": {},
   "source": [
    "### Repeat matching after checking ISSNs"
   ]
  },
  {
   "cell_type": "code",
   "execution_count": null,
   "id": "ec21a7de",
   "metadata": {},
   "outputs": [],
   "source": [
    "for year in years:\n",
    "    match_individuals(year) # Match Counter5 reports to individual journal licences\n",
    "    match_packages(year) # Match Counter5 reports to journal package licences\n",
    "    match_ISSNs(year) # Match files for individual licences and packages"
   ]
  },
  {
   "cell_type": "markdown",
   "id": "191257fe",
   "metadata": {},
   "source": [
    "### ! Manual step: Add usage data for vendors not offering Counter5 data via SUSHI to lists !"
   ]
  },
  {
   "cell_type": "markdown",
   "id": "aa1735cf",
   "metadata": {},
   "source": [
    "### Create file with UIR for all journals and all years"
   ]
  },
  {
   "cell_type": "code",
   "execution_count": null,
   "id": "0f6ee582",
   "metadata": {},
   "outputs": [],
   "source": [
    "UIR_Zeitschrift_IDs = [] #create an empty list\n",
    "for year in years:\n",
    "    UIR_Zeitschrift_IDs.append(combine_platforms_individuals(year)) #add UIR of individual journals\n",
    "    UIR_Zeitschrift_IDs.append(combine_platforms_packages(year)) #add UIR of packages\n",
    "UIR_Zeitschrift_IDs = pd.concat(UIR_Zeitschrift_IDs, axis = 0) #combine dataframes in the list into one dataframe\n",
    "UIR_Zeitschrift_IDs.to_csv(f\"{licences_path}Gesamtauswertung/UIR_Zeitschriften_IDs.tsv\", index=False, sep=\"\\t\") #save dataframe as a tsv-file"
   ]
  },
  {
   "cell_type": "markdown",
   "id": "b4f479e2",
   "metadata": {},
   "source": [
    "### Create file with UIR sums for all packages and all years"
   ]
  },
  {
   "cell_type": "code",
   "execution_count": null,
   "id": "9628e8d6",
   "metadata": {},
   "outputs": [],
   "source": [
    "UIR_Zeitschrift_IDs_sum_packages = [] #create an empty list\n",
    "for year in years:\n",
    "    UIR_Zeitschrift_IDs_sum_packages.append(combine_platforms_sum_packages(year)) #add UIR of individual journals\n",
    "UIR_Zeitschrift_IDs_sum_packages = pd.concat(UIR_Zeitschrift_IDs_sum_packages, axis = 0)\n",
    "UIR_Zeitschrift_IDs_sum_packages.to_csv(f\"{licences_path}Gesamtauswertung/UIR_Zeitschriften_IDs_sum_packages.tsv\", index=False, sep=\"\\t\") #save dataframe as a tsv-file"
   ]
  },
  {
   "cell_type": "markdown",
   "id": "9c84d626",
   "metadata": {},
   "source": [
    "### Create a file without journals with no UIR"
   ]
  },
  {
   "cell_type": "code",
   "execution_count": 5,
   "id": "467c54d4",
   "metadata": {},
   "outputs": [],
   "source": [
    "UIR_Zeitschrift_IDs = pd.read_table(f\"{licences_path}Gesamtauswertung/UIR_Zeitschriften_IDs_Grafik.tsv\") #read data\n",
    "UIR_Zeitschrift_IDs_noZeros = UIR_Zeitschrift_IDs[UIR_Zeitschrift_IDs[\"Reporting_Period_Total\"] != 0]"
   ]
  },
  {
   "cell_type": "markdown",
   "id": "4c410512",
   "metadata": {},
   "source": [
    "## Graphical representation"
   ]
  },
  {
   "cell_type": "markdown",
   "id": "5d0d105b",
   "metadata": {},
   "source": [
    "### Boxplot looking at UIR for all journals per year"
   ]
  },
  {
   "cell_type": "code",
   "execution_count": 6,
   "id": "b07c4b90",
   "metadata": {},
   "outputs": [
    {
     "data": {
      "image/png": "[encoded data removed]",
      "text/plain": [
       "<Figure size 700x600 with 1 Axes>"
      ]
     },
     "metadata": {},
     "output_type": "display_data"
    }
   ],
   "source": [
    "make_log_boxplot(UIR_Zeitschrift_IDs_noZeros)\n",
    "plt.savefig(f\"{licences_path}/Gesamtauswertung/Boxplot_UIR_Journals.svg\", dpi=100, bbox_inches='tight', format=\"svg\")"
   ]
  },
  {
   "cell_type": "markdown",
   "id": "0170874a",
   "metadata": {},
   "source": [
    "### Show statistics"
   ]
  },
  {
   "cell_type": "code",
   "execution_count": 7,
   "id": "0853963a",
   "metadata": {},
   "outputs": [
    {
     "data": {
      "text/html": [
       "<div>\n",
       "<style scoped>\n",
       "    .dataframe tbody tr th:only-of-type {\n",
       "        vertical-align: middle;\n",
       "    }\n",
       "\n",
       "    .dataframe tbody tr th {\n",
       "        vertical-align: top;\n",
       "    }\n",
       "\n",
       "    .dataframe thead tr th {\n",
       "        text-align: left;\n",
       "    }\n",
       "\n",
       "    .dataframe thead tr:last-of-type th {\n",
       "        text-align: right;\n",
       "    }\n",
       "</style>\n",
       "<table border=\"1\" class=\"dataframe\">\n",
       "  <thead>\n",
       "    <tr>\n",
       "      <th></th>\n",
       "      <th colspan=\"8\" halign=\"left\">Reporting_Period_Total</th>\n",
       "    </tr>\n",
       "    <tr>\n",
       "      <th></th>\n",
       "      <th>count</th>\n",
       "      <th>mean</th>\n",
       "      <th>std</th>\n",
       "      <th>min</th>\n",
       "      <th>25%</th>\n",
       "      <th>50%</th>\n",
       "      <th>75%</th>\n",
       "      <th>max</th>\n",
       "    </tr>\n",
       "    <tr>\n",
       "      <th>Jahr</th>\n",
       "      <th></th>\n",
       "      <th></th>\n",
       "      <th></th>\n",
       "      <th></th>\n",
       "      <th></th>\n",
       "      <th></th>\n",
       "      <th></th>\n",
       "      <th></th>\n",
       "    </tr>\n",
       "  </thead>\n",
       "  <tbody>\n",
       "    <tr>\n",
       "      <th>2020</th>\n",
       "      <td>597.0</td>\n",
       "      <td>34.770519</td>\n",
       "      <td>182.966603</td>\n",
       "      <td>1.0</td>\n",
       "      <td>4.0</td>\n",
       "      <td>9.0</td>\n",
       "      <td>25.0</td>\n",
       "      <td>4266.0</td>\n",
       "    </tr>\n",
       "    <tr>\n",
       "      <th>2021</th>\n",
       "      <td>611.0</td>\n",
       "      <td>55.000000</td>\n",
       "      <td>311.551417</td>\n",
       "      <td>1.0</td>\n",
       "      <td>4.5</td>\n",
       "      <td>12.0</td>\n",
       "      <td>35.0</td>\n",
       "      <td>5974.0</td>\n",
       "    </tr>\n",
       "    <tr>\n",
       "      <th>2022</th>\n",
       "      <td>587.0</td>\n",
       "      <td>58.093697</td>\n",
       "      <td>309.307875</td>\n",
       "      <td>1.0</td>\n",
       "      <td>5.0</td>\n",
       "      <td>14.0</td>\n",
       "      <td>39.0</td>\n",
       "      <td>6727.0</td>\n",
       "    </tr>\n",
       "    <tr>\n",
       "      <th>2023</th>\n",
       "      <td>569.0</td>\n",
       "      <td>49.558875</td>\n",
       "      <td>245.719418</td>\n",
       "      <td>1.0</td>\n",
       "      <td>4.0</td>\n",
       "      <td>10.0</td>\n",
       "      <td>28.0</td>\n",
       "      <td>3775.0</td>\n",
       "    </tr>\n",
       "  </tbody>\n",
       "</table>\n",
       "</div>"
      ],
      "text/plain": [
       "     Reporting_Period_Total                                               \\\n",
       "                      count       mean         std  min  25%   50%   75%   \n",
       "Jahr                                                                       \n",
       "2020                  597.0  34.770519  182.966603  1.0  4.0   9.0  25.0   \n",
       "2021                  611.0  55.000000  311.551417  1.0  4.5  12.0  35.0   \n",
       "2022                  587.0  58.093697  309.307875  1.0  5.0  14.0  39.0   \n",
       "2023                  569.0  49.558875  245.719418  1.0  4.0  10.0  28.0   \n",
       "\n",
       "              \n",
       "         max  \n",
       "Jahr          \n",
       "2020  4266.0  \n",
       "2021  5974.0  \n",
       "2022  6727.0  \n",
       "2023  3775.0  "
      ]
     },
     "execution_count": 7,
     "metadata": {},
     "output_type": "execute_result"
    }
   ],
   "source": [
    "UIR_Zeitschrift_IDs_noZeros.groupby(\"Jahr\").describe()"
   ]
  },
  {
   "cell_type": "code",
   "execution_count": null,
   "id": "acb9dc1c",
   "metadata": {},
   "outputs": [],
   "source": []
  }
 ],
 "metadata": {
  "kernelspec": {
   "display_name": "Python 3 (ipykernel)",
   "language": "python",
   "name": "python3"
  },
  "language_info": {
   "codemirror_mode": {
    "name": "ipython",
    "version": 3
   },
   "file_extension": ".py",
   "mimetype": "text/x-python",
   "name": "python",
   "nbconvert_exporter": "python",
   "pygments_lexer": "ipython3",
   "version": "3.8.15"
  }
 },
 "nbformat": 4,
 "nbformat_minor": 5
}
